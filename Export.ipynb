{
 "cells": [
  {
   "cell_type": "code",
   "execution_count": 1,
   "id": "bc6a0ca4",
   "metadata": {},
   "outputs": [],
   "source": [
    "import os\n",
    "import torch\n",
    "import torchvision\n",
    "import warnings\n",
    "warnings.filterwarnings(\"ignore\")"
   ]
  },
  {
   "cell_type": "code",
   "execution_count": 2,
   "id": "5d9a5ffc",
   "metadata": {},
   "outputs": [],
   "source": [
    "pytorch_dir = \"/home/ubuntu/notebooks/data/model.pth\""
   ]
  },
  {
   "cell_type": "code",
   "execution_count": 3,
   "id": "85a1f045-fa0b-4766-99e7-a8abb3db9fe1",
   "metadata": {},
   "outputs": [],
   "source": [
    "device = torch.device('cuda') if torch.cuda.is_available() else torch.device('cpu')"
   ]
  },
  {
   "cell_type": "markdown",
   "id": "40d96d5f",
   "metadata": {},
   "source": [
    "Let's now load the PyTorch model."
   ]
  },
  {
   "cell_type": "code",
   "execution_count": 4,
   "id": "a8d8f556",
   "metadata": {},
   "outputs": [],
   "source": [
    "model = torch.load(pytorch_dir).cuda()"
   ]
  },
  {
   "cell_type": "code",
   "execution_count": 5,
   "id": "b969d5bb",
   "metadata": {},
   "outputs": [],
   "source": [
    "dummy_input = torch.rand(1, 3, 1024, 1024).cuda()\n",
    "\n",
    "torch.onnx.export(model,\n",
    "               dummy_input,\n",
    "               \"my_model.onnx\",\n",
    "               opset_version=11,\n",
    "               input_names=[\"input\"],\n",
    "               output_names=[\"boxes\", \"labels\", \"scores\"]\n",
    "               )"
   ]
  }
 ],
 "metadata": {
  "kernelspec": {
   "display_name": "Python 3 (ipykernel)",
   "language": "python",
   "name": "python3"
  },
  "language_info": {
   "codemirror_mode": {
    "name": "ipython",
    "version": 3
   },
   "file_extension": ".py",
   "mimetype": "text/x-python",
   "name": "python",
   "nbconvert_exporter": "python",
   "pygments_lexer": "ipython3",
   "version": "3.8.20"
  },
  "vscode": {
   "interpreter": {
    "hash": "e7370f93d1d0cde622a1f8e1c04877d8463912d04d973331ad4851f04de6915a"
   }
  }
 },
 "nbformat": 4,
 "nbformat_minor": 5
}
